{
 "cells": [
  {
   "cell_type": "markdown",
   "metadata": {},
   "source": [
    "# Test for saving dataframe to disk\n",
    "## Using the following formats:\n",
    "* pickel \n",
    "* HDF5 \n",
    "* Feather - Note: Need to manually install using - pip install feather-format\n",
    "* Parquet "
   ]
  },
  {
   "cell_type": "code",
   "execution_count": null,
   "metadata": {},
   "outputs": [],
   "source": [
    "#!pip install feather-format"
   ]
  },
  {
   "cell_type": "code",
   "execution_count": null,
   "metadata": {},
   "outputs": [],
   "source": [
    "import os\n",
    "import pandas as pd\n",
    "import numpy as np\n",
    "import feather\n",
    "\n",
    "if os.path.exists(\"data/nyc_taxi.csv\"):\n",
    "    print(\"Loading data to Data frame\")\n",
    "    df = pd.read_csv('nyc_taxi.csv')\n",
    "else: \n",
    "    print(\"Downloading 1.6gb file data from internet... \")\n",
    "    print(\"This process will take a few min..\")\n",
    "    df = pd.read_csv('http://s3.amazonaws.com/datashader-data/nyc_taxi.zip', compression='zip')\n",
    "    print(\"saving data to csv\")\n",
    "    df.to_csv(\"data/nyc_taxi.csv\")\n",
    "    "
   ]
  },
  {
   "cell_type": "markdown",
   "metadata": {},
   "source": [
    "# load to file"
   ]
  },
  {
   "cell_type": "code",
   "execution_count": null,
   "metadata": {},
   "outputs": [],
   "source": [
    "%%timeit -n1 -r1\n",
    "pkl_path = 'data/nyc_taxi.pkl'\n",
    "#os.remove(pkl_path)\n",
    "df.to_pickle(pkl_path)\n"
   ]
  },
  {
   "cell_type": "code",
   "execution_count": null,
   "metadata": {},
   "outputs": [],
   "source": [
    "%%timeit -n1 -r1\n",
    "hd5path = 'data/nyc_taxi.h5'\n",
    "#os.remove(hd5path)\n",
    "hd5store = pd.HDFStore(hd5path)\n",
    "hd5store['nyc_taxi_org'] = df\n",
    "hd5store.close()\n"
   ]
  },
  {
   "cell_type": "code",
   "execution_count": null,
   "metadata": {},
   "outputs": [],
   "source": [
    "%%timeit -n1 -r1\n",
    "featherpath = 'data/nyc_taxi.feather'\n",
    "#os.remove(featherpath)\n",
    "feather.write_dataframe(df, featherpath)\n"
   ]
  },
  {
   "cell_type": "code",
   "execution_count": null,
   "metadata": {},
   "outputs": [],
   "source": [
    "%%timeit -n1 -r1\n",
    "parquetpath = 'data/nyc_taxi.parque'\n",
    "#os.remove(parquetpath)\n",
    "df.to_parquet(parquetpath)"
   ]
  },
  {
   "cell_type": "markdown",
   "metadata": {},
   "source": [
    "# read from file\n"
   ]
  },
  {
   "cell_type": "code",
   "execution_count": null,
   "metadata": {},
   "outputs": [],
   "source": [
    "%%timeit -n1 -r10\n",
    "pkl_path = 'data/nyc_taxi.pkl'\n",
    "df1 = pd.read_pickle(pkl_path)"
   ]
  },
  {
   "cell_type": "code",
   "execution_count": null,
   "metadata": {},
   "outputs": [],
   "source": [
    "%%timeit -n1 -r10\n",
    "hd5path = 'data/nyc_taxi.h5'\n",
    "hd5store = pd.HDFStore(hd5path)\n",
    "df2 = hd5store['nyc_taxi_org']\n",
    "hd5store.close()"
   ]
  },
  {
   "cell_type": "code",
   "execution_count": null,
   "metadata": {},
   "outputs": [],
   "source": [
    "%%timeit -n1 -r10\n",
    "featherpath = 'data/nyc_taxi.feather'\n",
    "df3 = feather.read_dataframe(featherpath)"
   ]
  },
  {
   "cell_type": "code",
   "execution_count": null,
   "metadata": {},
   "outputs": [],
   "source": [
    "%%timeit -n1 -r10\n",
    "parquetpath = 'data/nyc_taxi.parque'\n",
    "df4 = pd.read_parquet(parquetpath)"
   ]
  }
 ],
 "metadata": {
  "kernelspec": {
   "display_name": "Python 3",
   "language": "python",
   "name": "python3"
  },
  "language_info": {
   "codemirror_mode": {
    "name": "ipython",
    "version": 3
   },
   "file_extension": ".py",
   "mimetype": "text/x-python",
   "name": "python",
   "nbconvert_exporter": "python",
   "pygments_lexer": "ipython3",
   "version": "3.6.4"
  },
  "toc": {
   "base_numbering": 1,
   "nav_menu": {},
   "number_sections": true,
   "sideBar": true,
   "skip_h1_title": false,
   "title_cell": "Table of Contents",
   "title_sidebar": "Contents",
   "toc_cell": false,
   "toc_position": {},
   "toc_section_display": true,
   "toc_window_display": false
  }
 },
 "nbformat": 4,
 "nbformat_minor": 2
}
