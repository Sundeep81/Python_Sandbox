{
 "cells": [
  {
   "cell_type": "code",
   "execution_count": 1,
   "metadata": {},
   "outputs": [],
   "source": [
    "import pandas as pd\n",
    "import numpy as np"
   ]
  },
  {
   "cell_type": "code",
   "execution_count": 3,
   "metadata": {},
   "outputs": [
    {
     "name": "stdout",
     "output_type": "stream",
     "text": [
      "10.0\n",
      "10\n"
     ]
    }
   ],
   "source": [
    "print(float(10))\n",
    "print(int(10.00))"
   ]
  },
  {
   "cell_type": "code",
   "execution_count": 2,
   "metadata": {},
   "outputs": [
    {
     "data": {
      "text/html": [
       "<div>\n",
       "<style scoped>\n",
       "    .dataframe tbody tr th:only-of-type {\n",
       "        vertical-align: middle;\n",
       "    }\n",
       "\n",
       "    .dataframe tbody tr th {\n",
       "        vertical-align: top;\n",
       "    }\n",
       "\n",
       "    .dataframe thead th {\n",
       "        text-align: right;\n",
       "    }\n",
       "</style>\n",
       "<table border=\"1\" class=\"dataframe\">\n",
       "  <thead>\n",
       "    <tr style=\"text-align: right;\">\n",
       "      <th></th>\n",
       "      <th>1</th>\n",
       "    </tr>\n",
       "  </thead>\n",
       "  <tbody>\n",
       "    <tr>\n",
       "      <th>22</th>\n",
       "      <td>000000000000000000F040000000000000000000000000...</td>\n",
       "    </tr>\n",
       "    <tr>\n",
       "      <th>23</th>\n",
       "      <td>0000000000000000000000000000000000000000000000...</td>\n",
       "    </tr>\n",
       "    <tr>\n",
       "      <th>24</th>\n",
       "      <td>0000000000000000000000000000000000000000000000...</td>\n",
       "    </tr>\n",
       "    <tr>\n",
       "      <th>25</th>\n",
       "      <td>0000000000000040404040404040404040404040400000...</td>\n",
       "    </tr>\n",
       "    <tr>\n",
       "      <th>26</th>\n",
       "      <td>0000000000000000000000000000000000</td>\n",
       "    </tr>\n",
       "  </tbody>\n",
       "</table>\n",
       "</div>"
      ],
      "text/plain": [
       "                                                    1\n",
       "22  000000000000000000F040000000000000000000000000...\n",
       "23  0000000000000000000000000000000000000000000000...\n",
       "24  0000000000000000000000000000000000000000000000...\n",
       "25  0000000000000040404040404040404040404040400000...\n",
       "26                 0000000000000000000000000000000000"
      ]
     },
     "execution_count": 2,
     "metadata": {},
     "output_type": "execute_result"
    }
   ],
   "source": [
    "df = pd.read_fwf(\"sample_with06\", skiprows=32, header=None)\n",
    "df.drop([0], axis=1, inplace= True)\n",
    "df = df.replace('\\n','', regex=True)\n",
    "df.tail()"
   ]
  },
  {
   "cell_type": "code",
   "execution_count": 3,
   "metadata": {},
   "outputs": [
    {
     "data": {
      "text/plain": [
       "'F0F0F0F0F0F0F6F7F6C4D6D4D4D3C1F140C4D6D4C140F0F1C1C4D7F4400000000000000000E2F0F6F0F0F1F9F0F6F2F6E7F7F8F5F6069FF0F0F1C3D6D4D640F1C4D6D4C140F040404040404040404040404040F04040F1C34040F1F2F0F1F9F0F6F2F4F1F2F0F1F9F0F6F2F6F1C2F1E3C6E3F1C2D5E7C6F4F0F0F2F0F0F24040404040F04040F040404040404040404040404040404040F040F040404040404040404040404040F1F2F0F1F7F0F5F9F7F9F7404040404040F1C7C1F1F0F0F040404040404040404040404040F1E8F1F1F9F0F6F2F6E7F7F8F5F64040F0404040404040404040F1C2D6E240F9F6F0F0F8F840404040404040404040404040404040404040400000000000000000F1C3C1F1F3F8F0F3F5F1F0F0F9F1C3C1C4F1F0F0F0F0F0F0F0F1F0F0F0F0F0F1F0F0F0F0F0F0F5F1F4F6F2F0F0F0F0F0F0F0404040404040404040404040F04040404040404040404040F04040404040404040404040F04040404040404040404040F04040404040404040404040F160F0F0F0F0F0F0F3F0F8F8F04040404040404040404040F1F0F0F0F0F0F0F5F1F4F6F2F0F0F040404040404040404040404040404040404040404040404040404040404040404040404040404040404040404040404040404040404040404040404040404040404040404040F040404040404040404040404040404040404040404040404040404040404040404040404040404040404040404040404040404040404040404040404000000000000000000000F04000000000000000000000000000000000000000000000000000000000000000000000000000000000000000000000000000000000000000000000000000000000000000000000004040404040404040404040404040000000000000000000000000000000000000000000'"
      ]
     },
     "execution_count": 3,
     "metadata": {},
     "output_type": "execute_result"
    }
   ],
   "source": [
    "value = ''.join(df[1].values)\n",
    "value\n"
   ]
  },
  {
   "cell_type": "code",
   "execution_count": 4,
   "metadata": {},
   "outputs": [
    {
     "data": {
      "text/plain": [
       "1334"
      ]
     },
     "execution_count": 4,
     "metadata": {},
     "output_type": "execute_result"
    }
   ],
   "source": [
    "len(value)"
   ]
  },
  {
   "cell_type": "code",
   "execution_count": 5,
   "metadata": {},
   "outputs": [],
   "source": [
    "#import ebcdic\n",
    "#import codecs"
   ]
  },
  {
   "cell_type": "code",
   "execution_count": 6,
   "metadata": {},
   "outputs": [
    {
     "data": {
      "text/plain": [
       "'06'"
      ]
     },
     "execution_count": 6,
     "metadata": {},
     "output_type": "execute_result"
    }
   ],
   "source": [
    "value[106:108]"
   ]
  },
  {
   "cell_type": "code",
   "execution_count": 9,
   "metadata": {},
   "outputs": [
    {
     "data": {
      "text/plain": [
       "'000000676DOMMLA1 DOMA 01ADP4         S0600190626X7856 ¤001COMO 1DOMA 0             0  1C  1201906241201906261B1TFT1BNXF4002002     0  0                0 0             12017059797      1GA1000             1Y1190626X7856  0         1BOS 960088                            1CA13803510091CAD100000001000001000000514620000000            0           0           0           0           1-00000030880           100000051462000                                                                      0                                                                      0                                                                                                           '"
      ]
     },
     "execution_count": 9,
     "metadata": {},
     "output_type": "execute_result"
    }
   ],
   "source": [
    "\n",
    "mybytes = bytearray.fromhex(value)\n",
    "\n",
    "\n",
    "#string = unicode(mybytes, 'cp500')\n",
    "\n",
    "string = mybytes.decode('cp500').replace('\\x00', ' ').replace('\\x86', ' ')\n",
    "string "
   ]
  },
  {
   "cell_type": "code",
   "execution_count": null,
   "metadata": {},
   "outputs": [],
   "source": []
  }
 ],
 "metadata": {
  "kernelspec": {
   "display_name": "Python 3",
   "language": "python",
   "name": "python3"
  },
  "language_info": {
   "codemirror_mode": {
    "name": "ipython",
    "version": 3
   },
   "file_extension": ".py",
   "mimetype": "text/x-python",
   "name": "python",
   "nbconvert_exporter": "python",
   "pygments_lexer": "ipython3",
   "version": "3.6.4"
  }
 },
 "nbformat": 4,
 "nbformat_minor": 2
}
